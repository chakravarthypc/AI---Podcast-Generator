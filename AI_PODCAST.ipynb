{
  "cells": [
    {
      "cell_type": "code",
      "execution_count": null,
      "metadata": {
        "collapsed": true,
        "id": "t_UncI1Vk5Oe"
      },
      "outputs": [],
      "source": [
        "!pip install -qU cohere  gradio\n"
      ]
    },
    {
      "cell_type": "code",
      "execution_count": null,
      "metadata": {
        "collapsed": true,
        "id": "fdbd26f2"
      },
      "outputs": [],
      "source": [
        "# Install eSpeak-ng\n",
        "!apt-get install -y espeak-ng"
      ]
    },
    {
      "cell_type": "code",
      "execution_count": null,
      "metadata": {
        "collapsed": true,
        "id": "6c9a7d29"
      },
      "outputs": [],
      "source": [
        "!pip install gtts"
      ]
    },
    {
      "cell_type": "code",
      "execution_count": null,
      "metadata": {
        "id": "7QggdDpHcVV-"
      },
      "outputs": [],
      "source": [
        "def clean_script(script):\n",
        "    # Remove stage directions and unwanted lines\n",
        "    script = re.sub(r\"\\*\\*?\\[.*?\\]\\*\\*?\", \"\", script)              # Removes [Intro Music Fades In], [Music Transition], etc.\n",
        "    script = re.sub(r\"\\bHost:?\\b\", \"\", script, flags=re.IGNORECASE) # Removes 'Host:' or 'host:'\n",
        "    script = re.sub(r\"I[’']m your host.*?,\", \"\", script, flags=re.IGNORECASE)  # Removes lines like \"I’m your host, [Your Name],\"\n",
        "    script = re.sub(r\"\\[Your Name\\]\", \"\", script, flags=re.IGNORECASE)         # Removes placeholder names\n",
        "    script = re.sub(r\"\\s{2,}\", \" \", script)                        # Remove extra spaces\n",
        "    script = re.sub(r\"\\n{2,}\", \"\\n\", script)                       # Remove extra newlines\n",
        "    script = re.sub(r\"\\*\\*Podcast Script.*?\\*\\*\", \"\", script)    # Remove '**Podcast Script...**'\n",
        "    script = re.sub(r\"I[’']m\\s+,\\s+and\\s+today\\s+on\\s+\\[Podcast\\s+Name\\]\", \"\", script) # Remove '! I’m , and today on [Podcast Name]'\n",
        "    script = re.sub(r\"\\*\\*?\\s*:\\s*\\*\\*?\", \"\", script)             # Remove '**:**' and similar\n",
        "    script = re.sub(r\"End of Script\\.\", \"\", script)               # Remove 'End of Script.'\n",
        "    script = re.sub(r\"I[’']m\\s+,\\s+and\\s+this\\s+has\\s+been\", \"\", script) # Remove \"I’m , and this has been\"\n",
        "\n",
        "    return script.strip()"
      ]
    },
    {
      "cell_type": "code",
      "execution_count": null,
      "metadata": {
        "colab": {
          "background_save": true,
          "base_uri": "https://localhost:8080/",
          "height": 1000
        },
        "id": "d9b719f6",
        "outputId": "192e422c-b6ed-48c7-96e1-f000b01ea12e"
      },
      "outputs": [
        {
          "metadata": {
            "tags": null
          },
          "name": "stdout",
          "output_type": "stream",
          "text": [
            "Collecting cohere\n",
            "  Downloading cohere-5.20.0-py3-none-any.whl.metadata (3.4 kB)\n",
            "Collecting gtts\n",
            "  Downloading gTTS-2.5.4-py3-none-any.whl.metadata (4.1 kB)\n",
            "Collecting fastavro<2.0.0,>=1.9.4 (from cohere)\n",
            "  Downloading fastavro-1.12.1-cp312-cp312-manylinux2014_x86_64.manylinux_2_17_x86_64.manylinux_2_28_x86_64.whl.metadata (5.8 kB)\n",
            "Requirement already satisfied: httpx>=0.21.2 in /usr/local/lib/python3.12/dist-packages (from cohere) (0.28.1)\n",
            "Collecting httpx-sse==0.4.0 (from cohere)\n",
            "  Downloading httpx_sse-0.4.0-py3-none-any.whl.metadata (9.0 kB)\n",
            "Requirement already satisfied: pydantic>=1.9.2 in /usr/local/lib/python3.12/dist-packages (from cohere) (2.11.10)\n",
            "Requirement already satisfied: pydantic-core<3.0.0,>=2.18.2 in /usr/local/lib/python3.12/dist-packages (from cohere) (2.33.2)\n",
            "Requirement already satisfied: requests<3.0.0,>=2.0.0 in /usr/local/lib/python3.12/dist-packages (from cohere) (2.32.4)\n",
            "Requirement already satisfied: tokenizers<1,>=0.15 in /usr/local/lib/python3.12/dist-packages (from cohere) (0.22.1)\n",
            "Collecting types-requests<3.0.0,>=2.0.0 (from cohere)\n",
            "  Downloading types_requests-2.32.4.20250913-py3-none-any.whl.metadata (2.0 kB)\n",
            "Requirement already satisfied: typing_extensions>=4.0.0 in /usr/local/lib/python3.12/dist-packages (from cohere) (4.15.0)\n",
            "Collecting click<8.2,>=7.1 (from gtts)\n",
            "  Downloading click-8.1.8-py3-none-any.whl.metadata (2.3 kB)\n",
            "Requirement already satisfied: anyio in /usr/local/lib/python3.12/dist-packages (from httpx>=0.21.2->cohere) (4.11.0)\n",
            "Requirement already satisfied: certifi in /usr/local/lib/python3.12/dist-packages (from httpx>=0.21.2->cohere) (2025.10.5)\n",
            "Requirement already satisfied: httpcore==1.* in /usr/local/lib/python3.12/dist-packages (from httpx>=0.21.2->cohere) (1.0.9)\n",
            "Requirement already satisfied: idna in /usr/local/lib/python3.12/dist-packages (from httpx>=0.21.2->cohere) (3.11)\n",
            "Requirement already satisfied: h11>=0.16 in /usr/local/lib/python3.12/dist-packages (from httpcore==1.*->httpx>=0.21.2->cohere) (0.16.0)\n",
            "Requirement already satisfied: annotated-types>=0.6.0 in /usr/local/lib/python3.12/dist-packages (from pydantic>=1.9.2->cohere) (0.7.0)\n",
            "Requirement already satisfied: typing-inspection>=0.4.0 in /usr/local/lib/python3.12/dist-packages (from pydantic>=1.9.2->cohere) (0.4.2)\n",
            "Requirement already satisfied: charset_normalizer<4,>=2 in /usr/local/lib/python3.12/dist-packages (from requests<3.0.0,>=2.0.0->cohere) (3.4.4)\n",
            "Requirement already satisfied: urllib3<3,>=1.21.1 in /usr/local/lib/python3.12/dist-packages (from requests<3.0.0,>=2.0.0->cohere) (2.5.0)\n",
            "Requirement already satisfied: huggingface-hub<2.0,>=0.16.4 in /usr/local/lib/python3.12/dist-packages (from tokenizers<1,>=0.15->cohere) (0.36.0)\n",
            "Requirement already satisfied: filelock in /usr/local/lib/python3.12/dist-packages (from huggingface-hub<2.0,>=0.16.4->tokenizers<1,>=0.15->cohere) (3.20.0)\n",
            "Requirement already satisfied: fsspec>=2023.5.0 in /usr/local/lib/python3.12/dist-packages (from huggingface-hub<2.0,>=0.16.4->tokenizers<1,>=0.15->cohere) (2025.3.0)\n",
            "Requirement already satisfied: packaging>=20.9 in /usr/local/lib/python3.12/dist-packages (from huggingface-hub<2.0,>=0.16.4->tokenizers<1,>=0.15->cohere) (25.0)\n",
            "Requirement already satisfied: pyyaml>=5.1 in /usr/local/lib/python3.12/dist-packages (from huggingface-hub<2.0,>=0.16.4->tokenizers<1,>=0.15->cohere) (6.0.3)\n",
            "Requirement already satisfied: tqdm>=4.42.1 in /usr/local/lib/python3.12/dist-packages (from huggingface-hub<2.0,>=0.16.4->tokenizers<1,>=0.15->cohere) (4.67.1)\n",
            "Requirement already satisfied: hf-xet<2.0.0,>=1.1.3 in /usr/local/lib/python3.12/dist-packages (from huggingface-hub<2.0,>=0.16.4->tokenizers<1,>=0.15->cohere) (1.2.0)\n",
            "Requirement already satisfied: sniffio>=1.1 in /usr/local/lib/python3.12/dist-packages (from anyio->httpx>=0.21.2->cohere) (1.3.1)\n",
            "Downloading cohere-5.20.0-py3-none-any.whl (303 kB)\n",
            "\u001b[2K   \u001b[90m━━━━━━━━━━━━━━━━━━━━━━━━━━━━━━━━━━━━━━━━\u001b[0m \u001b[32m303.3/303.3 kB\u001b[0m \u001b[31m6.3 MB/s\u001b[0m eta \u001b[36m0:00:00\u001b[0m\n",
            "\u001b[?25hDownloading httpx_sse-0.4.0-py3-none-any.whl (7.8 kB)\n",
            "Downloading gTTS-2.5.4-py3-none-any.whl (29 kB)\n",
            "Downloading click-8.1.8-py3-none-any.whl (98 kB)\n",
            "\u001b[2K   \u001b[90m━━━━━━━━━━━━━━━━━━━━━━━━━━━━━━━━━━━━━━━━\u001b[0m \u001b[32m98.2/98.2 kB\u001b[0m \u001b[31m8.0 MB/s\u001b[0m eta \u001b[36m0:00:00\u001b[0m\n",
            "\u001b[?25hDownloading fastavro-1.12.1-cp312-cp312-manylinux2014_x86_64.manylinux_2_17_x86_64.manylinux_2_28_x86_64.whl (3.5 MB)\n",
            "\u001b[2K   \u001b[90m━━━━━━━━━━━━━━━━━━━━━━━━━━━━━━━━━━━━━━━━\u001b[0m \u001b[32m3.5/3.5 MB\u001b[0m \u001b[31m15.5 MB/s\u001b[0m eta \u001b[36m0:00:00\u001b[0m\n",
            "\u001b[?25hDownloading types_requests-2.32.4.20250913-py3-none-any.whl (20 kB)\n",
            "Installing collected packages: types-requests, httpx-sse, fastavro, click, gtts, cohere\n",
            "  Attempting uninstall: httpx-sse\n",
            "    Found existing installation: httpx-sse 0.4.3\n",
            "    Uninstalling httpx-sse-0.4.3:\n",
            "      Successfully uninstalled httpx-sse-0.4.3\n",
            "  Attempting uninstall: click\n",
            "    Found existing installation: click 8.3.0\n",
            "    Uninstalling click-8.3.0:\n",
            "      Successfully uninstalled click-8.3.0\n",
            "Successfully installed click-8.1.8 cohere-5.20.0 fastavro-1.12.1 gtts-2.5.4 httpx-sse-0.4.0 types-requests-2.32.4.20250913\n",
            "Colab notebook detected. This cell will run indefinitely so that you can see errors and logs. To turn off, set debug=False in launch().\n",
            "* Running on public URL: https://e5701e2d3f60cec441.gradio.live\n",
            "\n",
            "This share link expires in 1 week. For free permanent hosting and GPU upgrades, run `gradio deploy` from the terminal in the working directory to deploy to Hugging Face Spaces (https://huggingface.co/spaces)\n"
          ]
        },
        {
          "data": {
            "text/html": [
              "<div><iframe src=\"https://e5701e2d3f60cec441.gradio.live\" width=\"100%\" height=\"500\" allow=\"autoplay; camera; microphone; clipboard-read; clipboard-write;\" frameborder=\"0\" allowfullscreen></iframe></div>"
            ],
            "text/plain": [
              "<IPython.core.display.HTML object>"
            ]
          },
          "metadata": {},
          "output_type": "display_data"
        },
        {
          "metadata": {
            "tags": null
          },
          "name": "stdout",
          "output_type": "stream",
          "text": [
            "🎙️ Generating podcast on: ben 10\n",
            "\n",
            "📜 Cleaned Script Generated:\n",
            "\n",
            "**Intro Music Fades In**  \"Welcome back to *Nostalgia Nexus*, the podcast where we dive into the shows, movies, and characters that shaped our childhoods. I’m your , , and today we’re stepping into the world of one of the most iconic animated series of the 2000s—*Ben 10*. Whether you were a kid who dreamed of having the Omnitrix or an adult who secretly wished you could transform into an alien, this show left an indelible mark on pop culture. So, let’s strap in and explore the legacy of Ben 10.\" **Segment 1: The Origins of Ben 10** \"Ben 10 first premiered on Cartoon Network in 2005, created by Man of Action—a group of writers and artists who also worked on *Generator Rex* and *Big Hero 6*. The story follows Ben Tennyson, a 10-year-old boy who discovers a mysterious watch-like device called the Omnitrix during a summer vacation with his cousin Gwen and grandfather Max. The Omnitrix allows Ben to transform into ten different alien species, each with unique abilities. From the fire-wielding Heatblast to the four-armed powerhouse Four Arms, Ben uses these powers to fight villains and save the world—all while navigating the challenges of being a kid.\" **Segment 2: Why Ben 10 Resonated** \"What made Ben 10 so special? For starters, it was a perfect blend of action, humor, and heart. Ben wasn’t just a hero; he was a relatable kid who made mistakes, argued with his cousin, and struggled with responsibility. The show also had a diverse cast of characters, from Gwen’s intelligence to Max’s wisdom, and the aliens themselves, who each had their own personalities. Plus, the idea of having a device that could transform you into anything was every kid’s dream. Who wouldn’t want to be a hero one day and a goofball the next?\" **Segment 3: The Evolution of the Franchise** \"Ben 10 didn’t stop at the original series. It spawned multiple sequels, including *Ben 10: Alien Force*, *Ben 10: Ultimate Alien*, and *Ben 10: Omniverse*. Each iteration evolved the story, introducing new aliens, deeper plots, and older versions of Ben. The franchise also expanded into movies, video games, and merchandise, solidifying its place in pop culture. Even today, Ben 10 remains a beloved character, with reboots and new content keeping the legacy alive.\" **Segment 4: Ben 10’s Impact on Animation** \"Ben 10 wasn’t just a hit; it was a game-changer for animated action series. It proved that a show could balance humor and adventure while still delivering meaningful lessons about responsibility, teamwork, and growing up. It also inspired countless other shows that followed its formula of a young hero with extraordinary powers. Ben 10’s influence can be seen in everything from *Teen Titans* to *Avatar: The Last Airbender*.\" **Outro:** \"So, there you have it—the story of Ben 10, a show that captured the hearts of millions and continues to inspire new generations. Whether you’re rewatching the original series or introducing it to someone new, Ben 10 reminds us that even the smallest heroes can make a big impact. Thanks for tuning in to *Nostalgia Nexus*. If you enjoyed this episode, don’t forget to subscribe, leave a review, and share\n",
            "\n",
            "🔊 Generating audio...\n",
            "✅ Podcast saved as: podcast_7dd9fb36cc6a4ad6941f378fb0f25300.mp3\n",
            "🎙️ Generating podcast on: tom and jerry\n",
            "\n",
            "📜 Cleaned Script Generated:\n",
            "\n",
            "\"Welcome back to *Nostalgia Lane*, the podcast where we dive into the stories, characters, and moments that shaped our childhoods. I’m your , , and today, we’re talking about one of the most iconic duos in animation history: *Tom and Jerry*. Whether you grew up watching their chaotic antics on Saturday mornings or discovered them through reruns, there’s no denying the impact these two have had on generations of viewers. So, grab your popcorn, settle in, and let’s explore why *Tom and Jerry* remains a timeless classic.\"  \"Created by William Hanna and Joseph Barbera in 1940, *Tom and Jerry* debuted with the short *Puss Gets the Boot*. The premise was simple: Tom, the house cat, is constantly trying to catch Jerry, the mischievous mouse. But what started as a straightforward cat-and-mouse chase evolved into a masterpiece of physical comedy, slapstick humor, and surprisingly emotional storytelling. What made *Tom and Jerry* stand out was its universal appeal. No matter where you were from or what language you spoke, the visuals and sound effects were enough to keep you hooked. The show rarely relied on dialogue, which allowed it to transcend cultural barriers. Instead, it leaned on exaggerated expressions, clever timing, and a brilliant score by composer Scott Bradley, who brought each scene to life with his music.\"  \"One of the reasons *Tom and Jerry* has endured for over 80 years is its ability to balance chaos with charm. Sure, the chases were intense, and the pranks were often brutal, but there was always an underlying sense of camaraderie between the two. Deep down, Tom and Jerry needed each other. Without their rivalry, they’d be just another cat and mouse. The show also had a knack for pushing boundaries. From Tom’s elaborate traps to Jerry’s clever escapes, every episode felt like a game of one-upmanship. And let’s not forget the supporting characters, like Spike the Bulldog, who added even more layers to the chaos. But what’s truly remarkable is how *Tom and Jerry* continues to evolve. The franchise has seen numerous reboots, spin-offs, and even a live-action/CGI hybrid film in 2021. Yet, no matter how much the medium changes, the core dynamic remains the same: a cat, a mouse, and a never-ending battle of wits.\"  \"So, what’s the secret to *Tom and Jerry*’s longevity? Maybe it’s the nostalgia. Maybe it’s the simplicity. Or maybe it’s just the fact that, no matter how many times we watch it, we can’t help but laugh. As we wrap up today’s episode, I want to leave you with this: *Tom and Jerry* reminds us that sometimes, the best stories are the simplest ones. They don’t need complex plots or deep character arcs—just two characters, a lot of energy, and a whole lot of heart. Thanks for tuning in to *Nostalgia Lane*. If you enjoyed this episode, don’t forget to subscribe, leave a review, and share it with a friend. Until next time, keep chasing your dreams—just maybe not as literally as Tom and Jerry.\"  \"This has been *Nost\n",
            "\n",
            "🔊 Generating audio...\n",
            "✅ Podcast saved as: podcast_d212006dd0c340299e9991f90245501b.mp3\n"
          ]
        }
      ],
      "source": [
        "!pip install cohere gtts\n",
        "\n",
        "import gradio as gr\n",
        "import cohere\n",
        "from gtts import gTTS\n",
        "import os\n",
        "import uuid\n",
        "import re\n",
        "\n",
        "# 1. Initialize Cohere API\n",
        "co = cohere.Client(\"GARNtcnzo4a0k1xazRIZf1SBUUqbFrSn9uIX7B39\")  # 🔑 Replace with your real key\n",
        "\n",
        "# 2. Generate podcast script\n",
        "def generate_script(topic):\n",
        "    prompt = f\"Write a 400-word podcast script on the topic: '{topic}'.\"\n",
        "    # Using Cohere's chat endpoint\n",
        "    response = co.chat(\n",
        "        model=\"command-a-translate-08-2025\",\n",
        "        message=prompt,\n",
        "        max_tokens=800,\n",
        "        temperature=0.7\n",
        "    )\n",
        "\n",
        "    # Handle possible response formats\n",
        "    if hasattr(response, \"text\") and response.text:\n",
        "        script = response.text.strip()\n",
        "    elif hasattr(response, \"output_text\"):\n",
        "        script = response.output_text.strip()\n",
        "    else:\n",
        "        raise RuntimeError(\"⚠️ Cohere response format not recognized.\")\n",
        "\n",
        "    # Clean the script\n",
        "    return clean_script(script)\n",
        "\n",
        "# 3. Function to clean the script\n",
        "def clean_script(script):\n",
        "    # Remove stage directions and unwanted lines\n",
        "    script = re.sub(r\"\\*\\*?\\[.*?\\]\\*\\*?\", \"\", script)              # Removes [Intro Music Fades In], [Music Transition], etc.\n",
        "    script = re.sub(r\"\\bHost:?\\b\", \"\", script, flags=re.IGNORECASE) # Removes 'Host:' or 'host:'\n",
        "    script = re.sub(r\"I[’']m your host.*?,\", \"\", script, flags=re.IGNORECASE)  # Removes lines like \"I’m your host, [Your Name],\"\n",
        "    script = re.sub(r\"\\[Your Name\\]\", \"\", script, flags=re.IGNORECASE)         # Removes placeholder names\n",
        "    script = re.sub(r\"\\s{2,}\", \" \", script)                        # Remove extra spaces\n",
        "    script = re.sub(r\"\\n{2,}\", \"\\n\", script)                       # Remove extra newlines\n",
        "    script = re.sub(r\"\\*\\*Podcast Script.*?\\*\\*\", \"\", script)    # Remove '**Podcast Script...**'\n",
        "    script = re.sub(r\"I[’']m\\s+,\\s+and\\s+today\\s+on\\s+\\[Podcast\\s+Name\\]\", \"\", script) # Remove '! I’m , and today on [Podcast Name]'\n",
        "    script = re.sub(r\"\\*\\*?\\s*:\\s*\\*\\*?\", \"\", script)             # Remove '**:**' and similar\n",
        "    script = re.sub(r\"End of Script\\.\", \"\", script)               # Remove 'End of Script.'\n",
        "    script = re.sub(r\"I[’']m\\s+,\\s+and\\s+this\\s+has\\s+been\", \"\", script) # Remove \"I’m , and this has been\"\n",
        "    script = re.sub(r\"\\*\\*Segment \\d+:\\s*.*?\\*\\*\", \"\", script)     # Remove **Segment X: ...**\n",
        "\n",
        "    return script.strip()\n",
        "\n",
        "\n",
        "# 4. Convert cleaned script to speech with gTTS\n",
        "def generate_audio(script):\n",
        "    filename = f\"podcast_{uuid.uuid4().hex}.mp3\"\n",
        "    tts = gTTS(text=script, lang=\"en\")\n",
        "    tts.save(filename)\n",
        "    return filename\n",
        "\n",
        "# 5. Full workflow\n",
        "def generate_podcast(topic):\n",
        "    print(f\"🎙️ Generating podcast on: {topic}\")\n",
        "\n",
        "    script = generate_script(topic)\n",
        "    print(\"\\n📜 Cleaned Script Generated:\\n\")\n",
        "    print(script)\n",
        "\n",
        "    print(\"\\n🔊 Generating audio...\")\n",
        "    audio_file = generate_audio(script)\n",
        "    print(f\"✅ Podcast saved as: {audio_file}\")\n",
        "\n",
        "    return script, audio_file\n",
        "\n",
        "\n",
        "# Gradio Interface\n",
        "iface = gr.Interface(\n",
        "    fn=generate_podcast,\n",
        "    inputs=\"text\",\n",
        "    outputs=[\"text\", \"audio\"],\n",
        "    title=\"Podcast Generator\",\n",
        "    description=\"Enter a topic and generate a podcast script and audio.\"\n",
        ")\n",
        "\n",
        "iface.launch(debug=True, share=True)"
      ]
    }
  ],
  "metadata": {
    "colab": {
      "provenance": []
    },
    "kernelspec": {
      "display_name": "Python 3",
      "name": "python3"
    },
    "language_info": {
      "name": "python"
    }
  },
  "nbformat": 4,
  "nbformat_minor": 0
}